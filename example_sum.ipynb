{
 "cells": [
  {
   "cell_type": "code",
   "execution_count": 1,
   "metadata": {},
   "outputs": [
    {
     "name": "stderr",
     "output_type": "stream",
     "text": [
      "Using TensorFlow backend.\n"
     ]
    }
   ],
   "source": [
    "import matplotlib.pyplot as plt\n",
    "import numpy as np\n",
    "np.random.seed(1337)\n",
    "\n",
    "from keras import models\n",
    "from keras import optimizers\n",
    "from keras.layers import Input\n",
    "from keras.layers import Dense\n",
    "from keras.layers import LSTM\n",
    "from keras.layers import GlobalAveragePooling1D\n",
    "\n",
    "from attention.layers import AttentionLayer"
   ]
  },
  {
   "cell_type": "markdown",
   "metadata": {},
   "source": [
    "# Generating the dataset\n",
    "\n",
    "This taks is a bit more challenging than the copy task on `example.ipynb`. In this case we want to sum\n",
    "both numbers marked with $1$ in the second line of the tape.\n",
    "\n",
    "\n",
    "Each sample is a \"tape\" formed by two rows: the top row $y[0]$ contains random numbers sampled from the interval $[0, 1)$, while the second, $y[1]$, is formed by a string of zeros, except for one position, which has a one. The model is trained as a regressor to produce on the output the value from the first row of the column marked as 1. For example, given:\n",
    "\n",
    "$$ X = \n",
    "\\begin{bmatrix}\n",
    "    0.13 & 0.01 & 0.11 & 0.32 & 0.24 & 0.01 \\\\\n",
    "    0    & 1    & 0    & 0    &   1  & 0    \\\\\n",
    "\\end{bmatrix},\n",
    "$$\n",
    "\n",
    "the model output should be $\\mathcal{M}_\\theta(X) = 0.25$. We train two models, one using the attention mechanism and another using an average pooling. This models should be a bit more powerful than the one seen in `example.ipynb`."
   ]
  },
  {
   "cell_type": "code",
   "execution_count": 2,
   "metadata": {},
   "outputs": [
    {
     "name": "stdout",
     "output_type": "stream",
     "text": [
      "[[0.26202468 1.        ]\n",
      " [0.15868397 0.        ]\n",
      " [0.27812652 0.        ]\n",
      " [0.45931689 0.        ]\n",
      " [0.32100054 0.        ]\n",
      " [0.51839282 0.        ]\n",
      " [0.26194293 0.        ]\n",
      " [0.97608528 0.        ]\n",
      " [0.73281455 0.        ]\n",
      " [0.11527423 0.        ]\n",
      " [0.38627507 0.        ]\n",
      " [0.62850118 1.        ]\n",
      " [0.12505793 0.        ]\n",
      " [0.98354861 0.        ]\n",
      " [0.44322487 0.        ]\n",
      " [0.78955834 0.        ]\n",
      " [0.79411858 0.        ]\n",
      " [0.36126157 0.        ]\n",
      " [0.41610394 0.        ]\n",
      " [0.58425813 0.        ]\n",
      " [0.76017177 0.        ]\n",
      " [0.18780841 0.        ]\n",
      " [0.28816715 0.        ]\n",
      " [0.67021886 0.        ]\n",
      " [0.49964826 0.        ]\n",
      " [0.17856868 0.        ]\n",
      " [0.4131413  0.        ]\n",
      " [0.19919524 0.        ]\n",
      " [0.5316994  0.        ]\n",
      " [0.8323707  0.        ]\n",
      " [0.18525095 0.        ]\n",
      " [0.95735922 0.        ]]\n",
      "sum = 0.8905258545552933\n",
      "\n",
      "[[0.42541467 0.        ]\n",
      " [0.50400704 0.        ]\n",
      " [0.51047095 0.        ]\n",
      " [0.01579145 0.        ]\n",
      " [0.73169007 0.        ]\n",
      " [0.99330504 1.        ]\n",
      " [0.16287753 0.        ]\n",
      " [0.12663478 0.        ]\n",
      " [0.37483418 0.        ]\n",
      " [0.69321944 0.        ]\n",
      " [0.00290103 0.        ]\n",
      " [0.36922906 0.        ]\n",
      " [0.05867933 0.        ]\n",
      " [0.78933609 0.        ]\n",
      " [0.34976921 0.        ]\n",
      " [0.70252372 0.        ]\n",
      " [0.49122908 0.        ]\n",
      " [0.97287233 1.        ]\n",
      " [0.83596788 0.        ]\n",
      " [0.61023733 0.        ]\n",
      " [0.56451898 0.        ]\n",
      " [0.99738914 0.        ]\n",
      " [0.25472414 0.        ]\n",
      " [0.01437786 0.        ]\n",
      " [0.08904507 0.        ]\n",
      " [0.9389826  0.        ]\n",
      " [0.9734594  0.        ]\n",
      " [0.49148153 0.        ]\n",
      " [0.34093597 0.        ]\n",
      " [0.72285762 0.        ]\n",
      " [0.01089676 0.        ]\n",
      " [0.75995318 0.        ]]\n",
      "sum = 1.9661773697596354\n",
      "\n",
      "[[0.67140279 0.        ]\n",
      " [0.19044553 0.        ]\n",
      " [0.66646465 0.        ]\n",
      " [0.9111224  0.        ]\n",
      " [0.16211743 0.        ]\n",
      " [0.91057832 0.        ]\n",
      " [0.3243579  0.        ]\n",
      " [0.70029842 0.        ]\n",
      " [0.26545034 0.        ]\n",
      " [0.51895865 0.        ]\n",
      " [0.17746798 0.        ]\n",
      " [0.46784597 0.        ]\n",
      " [0.44896452 1.        ]\n",
      " [0.39606462 0.        ]\n",
      " [0.79192543 0.        ]\n",
      " [0.49339824 0.        ]\n",
      " [0.7239479  0.        ]\n",
      " [0.79302303 0.        ]\n",
      " [0.3515241  0.        ]\n",
      " [0.90965352 1.        ]\n",
      " [0.7128875  0.        ]\n",
      " [0.89724763 0.        ]\n",
      " [0.42020833 0.        ]\n",
      " [0.4675161  0.        ]\n",
      " [0.9039272  0.        ]\n",
      " [0.63354861 0.        ]\n",
      " [0.53282946 0.        ]\n",
      " [0.23751077 0.        ]\n",
      " [0.94650392 0.        ]\n",
      " [0.55943012 0.        ]\n",
      " [0.75735153 0.        ]\n",
      " [0.23614921 0.        ]]\n",
      "sum = 1.3586180436732245\n",
      "\n"
     ]
    }
   ],
   "source": [
    "N_SAMPLES = 1000\n",
    "N_TIMESTEPS = 32\n",
    "\n",
    "# X = (b, t, d)\n",
    "X = np.random.rand(N_SAMPLES, N_TIMESTEPS, 1)\n",
    "F = np.zeros_like(X)\n",
    "\n",
    "# X[b, t, 0] = number\n",
    "# X[b, t, 1] = flag\n",
    "X = np.concatenate([X, F], axis=2)\n",
    "\n",
    "Y = list()\n",
    "sampling_range = list(range(N_TIMESTEPS))\n",
    "for sample in range(N_SAMPLES):\n",
    "    a, b = np.random.choice(sampling_range, size=2, replace=False)\n",
    "    \n",
    "    X[sample][a][1] = 1\n",
    "    X[sample][b][1] = 1\n",
    "    \n",
    "    Y.append(X[sample][a][0] + X[sample][b][0])\n",
    "\n",
    "# Y = (b, sum, 1)\n",
    "Y = np.asarray(Y).reshape(-1, 1)\n",
    "\n",
    "for sample in range(3):\n",
    "    print(f'{X[sample]}\\nsum = {Y[sample][0]}\\n')"
   ]
  },
  {
   "cell_type": "markdown",
   "metadata": {},
   "source": [
    "# Training both models"
   ]
  },
  {
   "cell_type": "code",
   "execution_count": 3,
   "metadata": {},
   "outputs": [
    {
     "name": "stdout",
     "output_type": "stream",
     "text": [
      "_________________________________________________________________\n",
      "Layer (type)                 Output Shape              Param #   \n",
      "=================================================================\n",
      "tape-in (InputLayer)         (None, 32, 2)             0         \n",
      "_________________________________________________________________\n",
      "lstm (LSTM)                  (None, 32, 4)             112       \n",
      "_________________________________________________________________\n",
      "eita_james (GlobalAveragePoo (None, 4)                 0         \n",
      "_________________________________________________________________\n",
      "linear (Dense)               (None, 1)                 5         \n",
      "=================================================================\n",
      "Total params: 117\n",
      "Trainable params: 117\n",
      "Non-trainable params: 0\n",
      "_________________________________________________________________\n",
      "Epoch 1/20\n",
      "1000/1000 [==============================] - 1s 1ms/step - loss: 0.2385\n",
      "Epoch 2/20\n",
      "1000/1000 [==============================] - 1s 827us/step - loss: 0.1657\n",
      "Epoch 3/20\n",
      "1000/1000 [==============================] - 1s 830us/step - loss: 0.1626\n",
      "Epoch 4/20\n",
      "1000/1000 [==============================] - 1s 815us/step - loss: 0.1492\n",
      "Epoch 5/20\n",
      "1000/1000 [==============================] - 1s 828us/step - loss: 0.1207\n",
      "Epoch 6/20\n",
      "1000/1000 [==============================] - 1s 833us/step - loss: 0.0990\n",
      "Epoch 7/20\n",
      "1000/1000 [==============================] - 1s 799us/step - loss: 0.0633\n",
      "Epoch 8/20\n",
      "1000/1000 [==============================] - 1s 825us/step - loss: 0.0543\n",
      "Epoch 9/20\n",
      "1000/1000 [==============================] - 1s 822us/step - loss: 0.0484\n",
      "Epoch 10/20\n",
      "1000/1000 [==============================] - 1s 838us/step - loss: 0.0505\n",
      "Epoch 11/20\n",
      "1000/1000 [==============================] - 1s 817us/step - loss: 0.0356\n",
      "Epoch 12/20\n",
      "1000/1000 [==============================] - 1s 816us/step - loss: 0.0294\n",
      "Epoch 13/20\n",
      "1000/1000 [==============================] - 1s 812us/step - loss: 0.0291\n",
      "Epoch 14/20\n",
      "1000/1000 [==============================] - 1s 833us/step - loss: 0.0266\n",
      "Epoch 15/20\n",
      "1000/1000 [==============================] - 1s 842us/step - loss: 0.0212\n",
      "Epoch 16/20\n",
      "1000/1000 [==============================] - 1s 813us/step - loss: 0.0178\n",
      "Epoch 17/20\n",
      "1000/1000 [==============================] - 1s 827us/step - loss: 0.0152\n",
      "Epoch 18/20\n",
      "1000/1000 [==============================] - 1s 831us/step - loss: 0.0143\n",
      "Epoch 19/20\n",
      "1000/1000 [==============================] - 1s 821us/step - loss: 0.0123\n",
      "Epoch 20/20\n",
      "1000/1000 [==============================] - 1s 809us/step - loss: 0.0148\n"
     ]
    },
    {
     "data": {
      "text/plain": [
       "<keras.callbacks.History at 0x7f16911761d0>"
      ]
     },
     "execution_count": 3,
     "metadata": {},
     "output_type": "execute_result"
    }
   ],
   "source": [
    "def build_average_model():\n",
    "    model_in = Input((N_TIMESTEPS, 2), name='tape-in')\n",
    "    vectors  = LSTM(units=4, return_sequences=True, name='lstm')(model_in)\n",
    "    avg_pool = GlobalAveragePooling1D(name='eita_james')(vectors)\n",
    "    output   = Dense(1, activation='linear', name='linear')(avg_pool)\n",
    "\n",
    "    model = models.Model(inputs=[model_in], outputs=[output])\n",
    "    model.summary()\n",
    "\n",
    "    # 0.05, 0.1\n",
    "    model.compile(optimizers.Adam(lr=1e-1), 'mse')\n",
    "    return model\n",
    "\n",
    "avg_model = build_average_model()\n",
    "avg_model.fit(X, Y, batch_size=32, epochs=20)"
   ]
  },
  {
   "cell_type": "code",
   "execution_count": 4,
   "metadata": {},
   "outputs": [
    {
     "name": "stdout",
     "output_type": "stream",
     "text": [
      "_________________________________________________________________\n",
      "Layer (type)                 Output Shape              Param #   \n",
      "=================================================================\n",
      "tape-in (InputLayer)         (None, 32, 2)             0         \n",
      "_________________________________________________________________\n",
      "lstm (LSTM)                  (None, 32, 4)             112       \n",
      "_________________________________________________________________\n",
      "attention (AttentionLayer)   (None, 4)                 24        \n",
      "_________________________________________________________________\n",
      "dense_1 (Dense)              (None, 1)                 5         \n",
      "=================================================================\n",
      "Total params: 141\n",
      "Trainable params: 141\n",
      "Non-trainable params: 0\n",
      "_________________________________________________________________\n",
      "Epoch 1/20\n",
      "1000/1000 [==============================] - 2s 2ms/step - loss: 0.1947\n",
      "Epoch 2/20\n",
      "1000/1000 [==============================] - 1s 797us/step - loss: 0.1649\n",
      "Epoch 3/20\n",
      "1000/1000 [==============================] - 1s 844us/step - loss: 0.1625\n",
      "Epoch 4/20\n",
      "1000/1000 [==============================] - 1s 832us/step - loss: 0.1313\n",
      "Epoch 5/20\n",
      "1000/1000 [==============================] - 1s 841us/step - loss: 0.0426\n",
      "Epoch 6/20\n",
      "1000/1000 [==============================] - 1s 831us/step - loss: 0.0229\n",
      "Epoch 7/20\n",
      "1000/1000 [==============================] - 1s 837us/step - loss: 0.0141\n",
      "Epoch 8/20\n",
      "1000/1000 [==============================] - 1s 815us/step - loss: 0.0111\n",
      "Epoch 9/20\n",
      "1000/1000 [==============================] - 1s 832us/step - loss: 0.0067\n",
      "Epoch 10/20\n",
      "1000/1000 [==============================] - 1s 836us/step - loss: 0.0074\n",
      "Epoch 11/20\n",
      "1000/1000 [==============================] - 1s 836us/step - loss: 0.0061\n",
      "Epoch 12/20\n",
      "1000/1000 [==============================] - 1s 837us/step - loss: 0.0050\n",
      "Epoch 13/20\n",
      "1000/1000 [==============================] - 1s 836us/step - loss: 0.0044\n",
      "Epoch 14/20\n",
      "1000/1000 [==============================] - 1s 822us/step - loss: 0.0045\n",
      "Epoch 15/20\n",
      "1000/1000 [==============================] - 1s 848us/step - loss: 0.0042\n",
      "Epoch 16/20\n",
      "1000/1000 [==============================] - 1s 837us/step - loss: 0.0036\n",
      "Epoch 17/20\n",
      "1000/1000 [==============================] - 1s 839us/step - loss: 0.0032\n",
      "Epoch 18/20\n",
      "1000/1000 [==============================] - 1s 832us/step - loss: 0.0028\n",
      "Epoch 19/20\n",
      "1000/1000 [==============================] - 1s 839us/step - loss: 0.0028\n",
      "Epoch 20/20\n",
      "1000/1000 [==============================] - 1s 834us/step - loss: 0.0029\n"
     ]
    },
    {
     "data": {
      "text/plain": [
       "<keras.callbacks.History at 0x7f1688436c88>"
      ]
     },
     "execution_count": 4,
     "metadata": {},
     "output_type": "execute_result"
    }
   ],
   "source": [
    "def build_attention_model():\n",
    "    model_in = Input((N_TIMESTEPS, 2), name='tape-in')\n",
    "    vectors  = LSTM(units=4, return_sequences=True, name='lstm')(model_in)\n",
    "    attended = AttentionLayer(name='attention')(vectors)\n",
    "    output   = Dense(1, activation='linear')(attended)\n",
    "\n",
    "    model = models.Model(inputs=[model_in], outputs=[output])\n",
    "    model.summary()\n",
    "\n",
    "    model.compile(optimizers.Adam(lr=5e-2), 'mse')\n",
    "    return model\n",
    "\n",
    "att_model = build_attention_model()\n",
    "att_model.fit(X, Y, batch_size=32, epochs=20)"
   ]
  },
  {
   "cell_type": "markdown",
   "metadata": {},
   "source": [
    "# Comparing the losses\n",
    "\n",
    "Interestingly on this particular case, the average model is almost as competitive as the attention model. Still, it's worhtwhile mentioning that the goal of these toy tasks are:\n",
    "\n",
    "1. To ensure that the attention layer works properly\n",
    "2. Visualize how it affects the model and how its weights are distributed across the timesteps\n",
    "3. The average pooling can be seen as a special case of the attention model is $\\alpha_i = \\alpha_j$ with $\\for$"
   ]
  },
  {
   "cell_type": "code",
   "execution_count": 5,
   "metadata": {},
   "outputs": [
    {
     "data": {
      "image/png": "[encoded data removed]",
      "text/plain": [
       "<Figure size 432x288 with 1 Axes>"
      ]
     },
     "metadata": {},
     "output_type": "display_data"
    }
   ],
   "source": [
    "plt.plot(avg_model.history.history['loss'], label='Avg model')\n",
    "plt.plot(att_model.history.history['loss'], label='Att model')\n",
    "plt.legend()\n",
    "plt.grid(alpha=0.3)\n",
    "plt.title('Loss vs epochs')\n",
    "plt.xlabel('Epochs')\n",
    "plt.ylabel('Loss');"
   ]
  },
  {
   "cell_type": "code",
   "execution_count": 6,
   "metadata": {},
   "outputs": [
    {
     "name": "stdout",
     "output_type": "stream",
     "text": [
      "_________________________________________________________________\n",
      "Layer (type)                 Output Shape              Param #   \n",
      "=================================================================\n",
      "tape-in (InputLayer)         (None, 32, 2)             0         \n",
      "_________________________________________________________________\n",
      "lstm (LSTM)                  (None, 32, 4)             112       \n",
      "_________________________________________________________________\n",
      "attention (AttentionLayer)   (None, 32)                24        \n",
      "=================================================================\n",
      "Total params: 136\n",
      "Trainable params: 136\n",
      "Non-trainable params: 0\n",
      "_________________________________________________________________\n"
     ]
    }
   ],
   "source": [
    "def build_visualization_model(model):\n",
    "    model_in = Input((N_TIMESTEPS, 2), name='tape-in')\n",
    "    vectors  = LSTM(units=4, return_sequences=True, name='lstm',\n",
    "                    weights=model.layers[1].get_weights())(model_in)\n",
    "\n",
    "    weights = AttentionLayer(name='attention', return_attention=True,\n",
    "                             weights=model.layers[2].get_weights())(vectors)\n",
    "\n",
    "    model = models.Model(inputs=[model_in], outputs=[weights])\n",
    "    model.summary()\n",
    "\n",
    "    return model\n",
    "\n",
    "viz_model = build_visualization_model(att_model)"
   ]
  },
  {
   "cell_type": "markdown",
   "metadata": {},
   "source": [
    "# Visualizing the attention weights"
   ]
  },
  {
   "cell_type": "code",
   "execution_count": 7,
   "metadata": {},
   "outputs": [
    {
     "data": {
      "image/png": "[encoded data removed]",
      "text/plain": [
       "<Figure size 1440x216 with 3 Axes>"
      ]
     },
     "metadata": {},
     "output_type": "display_data"
    }
   ],
   "source": [
    "def plot_attention(viz_model, sample):\n",
    "    # finding timesteps to be summed\n",
    "    sum_coordinates = np.where(sample[:, 1] > 0.90)[0]\n",
    "\n",
    "    # computing the attention coefficients and their maxima\n",
    "    alphas = viz_model.predict(sample[None, :])[0]\n",
    "    max_alpha = np.max(alphas)\n",
    "\n",
    "    # utilities to plot the correct timesteps in the plot\n",
    "    ys = np.linspace(0, max_alpha)\n",
    "    attention1 = np.ones_like(ys) * sum_coordinates[0]\n",
    "    attention2 = np.ones_like(ys) * sum_coordinates[1]\n",
    "\n",
    "    plt.plot(attention1, ys, 'r', alpha=0.5, label='Correct timestep')\n",
    "    plt.plot(attention2, ys, 'r', alpha=0.5)\n",
    "    plt.plot(alphas, label='Attention')\n",
    "\n",
    "    # making it pretty\n",
    "    plt.xlabel('Timesteps')\n",
    "    plt.ylabel('Attention coefficient')\n",
    "    plt.grid(alpha=0.4)\n",
    "    plt.legend()\n",
    "    plt.title(f'Correct timesteps @ {sum_coordinates[0]} and {sum_coordinates[1]}')\n",
    "\n",
    "\n",
    "picks = np.random.randint(0, N_SAMPLES, 3)\n",
    "    \n",
    "plt.figure(figsize=(20, 3))\n",
    "plt.subplot(131)\n",
    "plot_attention(viz_model, X[picks[0]])\n",
    "plt.subplot(132)\n",
    "plot_attention(viz_model, X[picks[1]])\n",
    "plt.subplot(133)\n",
    "plot_attention(viz_model, X[picks[2]])\n",
    "\n",
    "plt.show()"
   ]
  }
 ],
 "metadata": {
  "kernelspec": {
   "display_name": "Python 3",
   "language": "python",
   "name": "python3"
  },
  "language_info": {
   "codemirror_mode": {
    "name": "ipython",
    "version": 3
   },
   "file_extension": ".py",
   "mimetype": "text/x-python",
   "name": "python",
   "nbconvert_exporter": "python",
   "pygments_lexer": "ipython3",
   "version": "3.6.5"
  }
 },
 "nbformat": 4,
 "nbformat_minor": 2
}
